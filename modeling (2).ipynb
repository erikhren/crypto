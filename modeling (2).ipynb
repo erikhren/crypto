{
 "cells": [
  {
   "cell_type": "markdown",
   "metadata": {},
   "source": [
    "## Unsupervised Outlier Detection"
   ]
  },
  {
   "cell_type": "code",
   "execution_count": 310,
   "metadata": {},
   "outputs": [],
   "source": [
    "from __future__ import division\n",
    "from __future__ import print_function\n",
    "\n",
    "import warnings\n",
    "from collections import defaultdict\n",
    "\n",
    "import abc\n",
    "import six\n",
    "\n",
    "import pandas as pd\n",
    "import numpy as np\n",
    "from numpy import percentile\n",
    "from scipy.special import erf\n",
    "from sklearn.preprocessing import MinMaxScaler\n",
    "from sklearn.metrics import roc_auc_score\n",
    "from sklearn.utils import deprecated\n",
    "from sklearn.utils.validation import check_is_fitted\n",
    "from sklearn.utils.multiclass import check_classification_targets"
   ]
  },
  {
   "cell_type": "code",
   "execution_count": 311,
   "metadata": {},
   "outputs": [],
   "source": [
    "# Import all models\n",
    "from pyod.models.abod import ABOD\n",
    "from pyod.models.cblof import CBLOF\n",
    "from pyod.models.feature_bagging import FeatureBagging\n",
    "from pyod.models.hbos import HBOS\n",
    "from pyod.models.iforest import IForest\n",
    "from pyod.models.knn import KNN\n",
    "from pyod.models.lof import LOF\n",
    "from pyod.models.mcd import MCD\n",
    "from pyod.models.ocsvm import OCSVM\n",
    "from pyod.models.pca import PCA\n",
    "from pyod.models.lscp import LSCP\n",
    "from scipy import stats\n",
    "pd.options.display.max_rows = 365"
   ]
  },
  {
   "cell_type": "markdown",
   "metadata": {},
   "source": [
    "## Test on each Dataset Seperetly "
   ]
  },
  {
   "cell_type": "markdown",
   "metadata": {},
   "source": [
    "### Price Dataset"
   ]
  },
  {
   "cell_type": "code",
   "execution_count": 312,
   "metadata": {},
   "outputs": [
    {
     "data": {
      "text/plain": [
       "Index(['close', 'high', 'low', 'open', 'volumefrom', 'volumeto', 'CCI',\n",
       "       'ichimoku_leadSpanA', 'ichimoku_leadSpanB', 'MACD', 'MACD_diff',\n",
       "       'MACD_signal', 'AwesomeOscillator', 'KAMA', 'RateofChange', 'RSI_7',\n",
       "       'RSI_14', 'StochasticOscillator', 'stoch_signal', 'TrueStrenghtIndex',\n",
       "       'UltimateOscilator', 'williamsR', 'Accum_Distrubution', 'ForceIndex',\n",
       "       'AvgTrueRange', 'BollingerHighBand', 'BHB_indicator',\n",
       "       'BollingerLowBand', 'BLB_indicator', 'BC_middleBand', 'BC_percBand',\n",
       "       'BCB_width', 'sma_5', 'sma_10', 'sma_20', 'sma_30', 'sma_50', 'sma_100',\n",
       "       'sma_200', 'ema_5', 'ema_10', 'ema_20', 'ema_30', 'ema_50', 'ema_100',\n",
       "       'ema_200', 'vwma', 'hull_Moving', 'Mkt_Cap'],\n",
       "      dtype='object')"
      ]
     },
     "execution_count": 312,
     "metadata": {},
     "output_type": "execute_result"
    }
   ],
   "source": [
    "price = pd.read_csv('btc_preprocessed.csv', index_col = 0)\n",
    "X = price\n",
    "X.columns"
   ]
  },
  {
   "cell_type": "code",
   "execution_count": 313,
   "metadata": {},
   "outputs": [],
   "source": [
    "random_state = np.random.RandomState(123)\n",
    "outliers_fraction = 0.05\n",
    "# Define seven outlier detection tools to be compared\n",
    "classifiers = {\n",
    "        'Angle-based Outlier Detector (ABOD)': ABOD(contamination=outliers_fraction),\n",
    "        'Cluster-based Local Outlier Factor (CBLOF)':CBLOF(contamination=outliers_fraction,check_estimator=False, random_state=random_state),\n",
    "        'Feature Bagging':FeatureBagging(LOF(n_neighbors=35),contamination=outliers_fraction,check_estimator=False,random_state=random_state),\n",
    "        'Histogram-base Outlier Detection (HBOS)': HBOS(contamination=outliers_fraction),\n",
    "        'Isolation Forest': IForest(contamination=outliers_fraction,random_state=random_state),\n",
    "        'K Nearest Neighbors (KNN)': KNN(contamination=outliers_fraction),\n",
    "        'Average KNN': KNN(method='mean',contamination=outliers_fraction)\n",
    "}"
   ]
  },
  {
   "cell_type": "code",
   "execution_count": 314,
   "metadata": {},
   "outputs": [
    {
     "name": "stdout",
     "output_type": "stream",
     "text": [
      "OUTLIERS :  19 INLIERS :  346 Angle-based Outlier Detector (ABOD)\n",
      "OUTLIERS :  19 INLIERS :  346 Cluster-based Local Outlier Factor (CBLOF)\n",
      "OUTLIERS :  18 INLIERS :  347 Feature Bagging\n",
      "OUTLIERS :  19 INLIERS :  346 Histogram-base Outlier Detection (HBOS)\n",
      "OUTLIERS :  19 INLIERS :  346 Isolation Forest\n",
      "OUTLIERS :  15 INLIERS :  350 K Nearest Neighbors (KNN)\n",
      "OUTLIERS :  16 INLIERS :  349 Average KNN\n"
     ]
    }
   ],
   "source": [
    "# empty list to store outliers and inliners\n",
    "df_outliers = []\n",
    "scores_pred_lst = []\n",
    "proba_lst = []\n",
    "predict_rank_lst = []\n",
    "\n",
    "for i, (clf_name, clf) in enumerate(classifiers.items()):\n",
    "    clf.fit(X)\n",
    "    # predict raw anomaly score\n",
    "    scores_pred = clf.decision_function(X) * -1 # WHY? * -1\n",
    "    \n",
    "    # prediction of a datapoint category outlier or inlier\n",
    "    y_pred = clf.predict(X)\n",
    "    \n",
    "    # probability of outlier \n",
    "    probability = clf.predict_proba(X, method = 'linear')\n",
    "    \n",
    "    # predict rank\n",
    "    predict_rank = clf._predict_rank(X)\n",
    "    \n",
    "    n_inliers = len(y_pred) - np.count_nonzero(y_pred)\n",
    "    n_outliers = np.count_nonzero(y_pred == 1)\n",
    "    \n",
    "    # copy of dataframe\n",
    "    dfx = X.copy()\n",
    "    \n",
    "    dfx[clf_name] = y_pred.tolist()\n",
    "    #print(clf_name,'\\n',i,clf,'\\n',classifiers,'\\n',classifiers.items())\n",
    "    print('OUTLIERS : ',n_outliers,'INLIERS : ',n_inliers, clf_name)\n",
    "    #print('scores_pred: ', scores_pred)\n",
    "    scores_pred_lst.append(scores_pred)\n",
    "    df_outliers.append(dfx[clf_name]) \n",
    "    proba_lst.append(probability)\n",
    "    predict_rank_lst.append(predict_rank)"
   ]
  },
  {
   "cell_type": "code",
   "execution_count": 315,
   "metadata": {},
   "outputs": [],
   "source": [
    "prices_df = df_outliers"
   ]
  },
  {
   "cell_type": "markdown",
   "metadata": {},
   "source": [
    "## Outlier probability on Prices\n",
    "Predict the probability of a sample being outlier. Two approaches are possible:\n",
    "1. simply use Min-max conversion to linearly transform the outlier scores into the range of [0,1]. The model must be\n",
    "fitted first.\n",
    "2. use unifying scores, see :cite:`kriegel2011interpreting`."
   ]
  },
  {
   "cell_type": "code",
   "execution_count": 316,
   "metadata": {
    "scrolled": true
   },
   "outputs": [],
   "source": [
    "outlier_proba = np.transpose(pd.DataFrame(probability)).T\n",
    "outlier_proba.index = X.index\n",
    "#outlier_proba"
   ]
  },
  {
   "cell_type": "markdown",
   "metadata": {},
   "source": [
    "## Outliers in Dates (I am guessing rounded)"
   ]
  },
  {
   "cell_type": "code",
   "execution_count": 317,
   "metadata": {
    "scrolled": true
   },
   "outputs": [],
   "source": [
    "btc_outliers = np.transpose(pd.DataFrame(df_outliers))\n",
    "#btc_outliers"
   ]
  },
  {
   "cell_type": "markdown",
   "metadata": {},
   "source": [
    "## Predict Rank Scores\n",
    "Predict the outlyingness rank of a sample by a fitted model. The method is for outlier detector score combination."
   ]
  },
  {
   "cell_type": "code",
   "execution_count": 318,
   "metadata": {
    "scrolled": true
   },
   "outputs": [],
   "source": [
    "pred_rank_df = np.transpose(pd.DataFrame(predict_rank_lst))\n",
    "pred_rank_df.columns = classifiers.keys()\n",
    "#pred_rank_df"
   ]
  },
  {
   "cell_type": "markdown",
   "metadata": {},
   "source": [
    "### Intersection dates"
   ]
  },
  {
   "cell_type": "code",
   "execution_count": 319,
   "metadata": {},
   "outputs": [],
   "source": [
    "# number of outliers identified per method \n",
    "outlier_dates = [] # store dates here \n",
    "for col in btc_outliers.columns:\n",
    "    outliers = btc_outliers[btc_outliers[col] == 1] # subset outlier data\n",
    "    #df_outliers.timestamp.apply(lambda x: x.strftime('%Y-%m-%d')) # datetime to string \n",
    "    outlier_dates.append(outliers.index) # append the string/date"
   ]
  },
  {
   "cell_type": "raw",
   "metadata": {},
   "source": [
    "# between ABOD and CBLOF\n",
    "def intersection(lst1, lst2): \n",
    "    return list(set(lst1) & set(lst2))"
   ]
  },
  {
   "cell_type": "raw",
   "metadata": {},
   "source": [
    "print(len(intersection(outlier_dates[0],outlier_dates[1])))"
   ]
  },
  {
   "cell_type": "code",
   "execution_count": 320,
   "metadata": {},
   "outputs": [],
   "source": [
    "def intersection(lst1, lst2,lst3,lst4,lst5,lst6,lst7): \n",
    "    return list(set(lst1) & set(lst2)& set(lst3)& set(lst4)& set(lst5)& set(lst6)& set(lst7))"
   ]
  },
  {
   "cell_type": "code",
   "execution_count": 321,
   "metadata": {},
   "outputs": [
    {
     "name": "stdout",
     "output_type": "stream",
     "text": [
      "Nbr of common anomalies among all models:  0\n"
     ]
    }
   ],
   "source": [
    "print('Nbr of common anomalies among all models: ',len(intersection(outlier_dates[0],outlier_dates[1],outlier_dates[2],\n",
    "        outlier_dates[3],outlier_dates[4],outlier_dates[5],outlier_dates[6])))"
   ]
  },
  {
   "cell_type": "markdown",
   "metadata": {},
   "source": [
    "## Blockhain Test (need to add some feature engineering)\n",
    "- note no feature engineering added to this dataset"
   ]
  },
  {
   "cell_type": "code",
   "execution_count": 322,
   "metadata": {},
   "outputs": [],
   "source": [
    "block = pd.read_csv('blockchain18.csv', index_col = 0)\n",
    "X = block"
   ]
  },
  {
   "cell_type": "code",
   "execution_count": 323,
   "metadata": {},
   "outputs": [
    {
     "data": {
      "text/plain": [
       "Index(['active_addresses', 'average_transaction_value', 'block_height',\n",
       "       'block_size', 'block_time', 'current_supply', 'difficulty', 'hashrate',\n",
       "       'large_transaction_count', 'new_addresses', 'transaction_count',\n",
       "       'transaction_count_all_time', 'unique_addresses_all_time',\n",
       "       'zero_balance_addresses_all_time'],\n",
       "      dtype='object')"
      ]
     },
     "execution_count": 323,
     "metadata": {},
     "output_type": "execute_result"
    }
   ],
   "source": [
    "X.columns"
   ]
  },
  {
   "cell_type": "code",
   "execution_count": 324,
   "metadata": {},
   "outputs": [
    {
     "name": "stdout",
     "output_type": "stream",
     "text": [
      "OUTLIERS :  20 INLIERS :  345 Angle-based Outlier Detector (ABOD)\n",
      "OUTLIERS :  19 INLIERS :  346 Cluster-based Local Outlier Factor (CBLOF)\n",
      "OUTLIERS :  16 INLIERS :  349 Feature Bagging\n",
      "OUTLIERS :  19 INLIERS :  346 Histogram-base Outlier Detection (HBOS)\n",
      "OUTLIERS :  19 INLIERS :  346 Isolation Forest\n",
      "OUTLIERS :  19 INLIERS :  346 K Nearest Neighbors (KNN)\n",
      "OUTLIERS :  17 INLIERS :  348 Average KNN\n"
     ]
    }
   ],
   "source": [
    "# empty list to store outliers and inliners\n",
    "df_outliers = []\n",
    "scores_pred_lst = []\n",
    "proba_lst = []\n",
    "predict_rank_lst = []\n",
    "\n",
    "for i, (clf_name, clf) in enumerate(classifiers.items()):\n",
    "    clf.fit(X)\n",
    "    # predict raw anomaly score\n",
    "    scores_pred = clf.decision_function(X) * -1 # WHY? * -1\n",
    "    \n",
    "    # prediction of a datapoint category outlier or inlier\n",
    "    y_pred = clf.predict(X)\n",
    "    \n",
    "    # probability of outlier \n",
    "    probability = clf.predict_proba(X, method = 'linear')\n",
    "    \n",
    "    # predict rank\n",
    "    predict_rank = clf._predict_rank(X)\n",
    "    \n",
    "    n_inliers = len(y_pred) - np.count_nonzero(y_pred)\n",
    "    n_outliers = np.count_nonzero(y_pred == 1)\n",
    "    \n",
    "    # copy of dataframe\n",
    "    dfx = X.copy()\n",
    "    \n",
    "    dfx[clf_name] = y_pred.tolist()\n",
    "    #print(clf_name,'\\n',i,clf,'\\n',classifiers,'\\n',classifiers.items())\n",
    "    print('OUTLIERS : ',n_outliers,'INLIERS : ',n_inliers, clf_name)\n",
    "    #print('scores_pred: ', scores_pred)\n",
    "    scores_pred_lst.append(scores_pred)\n",
    "    df_outliers.append(dfx[clf_name]) \n",
    "    proba_lst.append(probability)\n",
    "    predict_rank_lst.append(predict_rank)"
   ]
  },
  {
   "cell_type": "code",
   "execution_count": 325,
   "metadata": {},
   "outputs": [],
   "source": [
    "block_df = df_outliers"
   ]
  },
  {
   "cell_type": "markdown",
   "metadata": {},
   "source": [
    "## Outlier Probability on Blockchain"
   ]
  },
  {
   "cell_type": "code",
   "execution_count": 326,
   "metadata": {
    "scrolled": true
   },
   "outputs": [],
   "source": [
    "outlier_proba = np.transpose(pd.DataFrame(probability)).T\n",
    "outlier_proba.index = X.index\n",
    "#outlier_proba"
   ]
  },
  {
   "cell_type": "markdown",
   "metadata": {},
   "source": [
    "## Outlier Date Counts"
   ]
  },
  {
   "cell_type": "code",
   "execution_count": 327,
   "metadata": {
    "scrolled": true
   },
   "outputs": [],
   "source": [
    "btc_outliers = np.transpose(pd.DataFrame(df_outliers))\n",
    "#btc_outliers"
   ]
  },
  {
   "cell_type": "markdown",
   "metadata": {},
   "source": [
    "## Predict Rank Scores"
   ]
  },
  {
   "cell_type": "code",
   "execution_count": 328,
   "metadata": {
    "scrolled": true
   },
   "outputs": [],
   "source": [
    "pred_rank_df = np.transpose(pd.DataFrame(predict_rank_lst))\n",
    "pred_rank_df.columns = classifiers.keys()\n",
    "#pred_rank_df"
   ]
  },
  {
   "cell_type": "markdown",
   "metadata": {},
   "source": [
    "## Intersection Dates "
   ]
  },
  {
   "cell_type": "code",
   "execution_count": 329,
   "metadata": {},
   "outputs": [],
   "source": [
    "# number of outliers identified per method \n",
    "outlier_dates = [] # store dates here \n",
    "for col in btc_outliers.columns:\n",
    "    outliers = btc_outliers[btc_outliers[col] == 1] # subset outlier data\n",
    "    #df_outliers.timestamp.apply(lambda x: x.strftime('%Y-%m-%d')) # datetime to string \n",
    "    outlier_dates.append(outliers.index) # append the string/date"
   ]
  },
  {
   "cell_type": "code",
   "execution_count": 330,
   "metadata": {},
   "outputs": [
    {
     "name": "stdout",
     "output_type": "stream",
     "text": [
      "Nbr of common anomalies among all models:  0\n"
     ]
    }
   ],
   "source": [
    "print('Nbr of common anomalies among all models: ',len(intersection(outlier_dates[0],outlier_dates[1],outlier_dates[2],\n",
    "        outlier_dates[3],outlier_dates[4],outlier_dates[5],outlier_dates[6])))"
   ]
  },
  {
   "cell_type": "markdown",
   "metadata": {},
   "source": [
    "# Social Dataset Test (need to adress 0's I guess)"
   ]
  },
  {
   "cell_type": "code",
   "execution_count": 331,
   "metadata": {},
   "outputs": [],
   "source": [
    "social = pd.read_csv(\"social18.csv\", index_col = 0)\n",
    "X = social"
   ]
  },
  {
   "cell_type": "code",
   "execution_count": 332,
   "metadata": {},
   "outputs": [
    {
     "data": {
      "text/plain": [
       "Index(['comments', 'posts', 'followers', 'points', 'overview_page_views',\n",
       "       'analysis_page_views', 'markets_page_views', 'charts_page_views',\n",
       "       'trades_page_views', 'forum_page_views', 'influence_page_views',\n",
       "       'total_page_views', 'fb_likes', 'fb_talking_about', 'twitter_followers',\n",
       "       'twitter_following', 'twitter_lists', 'twitter_favourites',\n",
       "       'twitter_statuses', 'reddit_subscribers', 'reddit_active_users',\n",
       "       'reddit_posts_per_hour', 'reddit_posts_per_day',\n",
       "       'reddit_comments_per_hour', 'reddit_comments_per_day',\n",
       "       'code_repo_stars', 'code_repo_forks', 'code_repo_subscribers',\n",
       "       'code_repo_open_pull_issues', 'code_repo_closed_pull_issues',\n",
       "       'code_repo_open_issues', 'code_repo_closed_issues',\n",
       "       'code_repo_contributors'],\n",
       "      dtype='object')"
      ]
     },
     "execution_count": 332,
     "metadata": {},
     "output_type": "execute_result"
    }
   ],
   "source": [
    "X.columns"
   ]
  },
  {
   "cell_type": "code",
   "execution_count": 333,
   "metadata": {},
   "outputs": [
    {
     "name": "stderr",
     "output_type": "stream",
     "text": [
      "/home/jupyter-ehren/.local/lib/python3.6/site-packages/numpy/core/fromnumeric.py:3584: RuntimeWarning: Degrees of freedom <= 0 for slice\n",
      "  **kwargs)\n",
      "/home/jupyter-ehren/.local/lib/python3.6/site-packages/numpy/core/_methods.py:186: RuntimeWarning: invalid value encountered in true_divide\n",
      "  arrmean, rcount, out=arrmean, casting='unsafe', subok=False)\n",
      "/home/jupyter-ehren/.local/lib/python3.6/site-packages/numpy/core/_methods.py:209: RuntimeWarning: invalid value encountered in double_scalars\n",
      "  ret = ret.dtype.type(ret / rcount)\n",
      "/home/jupyter-ehren/.local/lib/python3.6/site-packages/pyod/models/base.py:365: RuntimeWarning: invalid value encountered in greater\n",
      "  self.labels_ = (self.decision_scores_ > self.threshold_).astype(\n",
      "/home/jupyter-ehren/.local/lib/python3.6/site-packages/numpy/core/fromnumeric.py:3584: RuntimeWarning: Degrees of freedom <= 0 for slice\n",
      "  **kwargs)\n",
      "/home/jupyter-ehren/.local/lib/python3.6/site-packages/numpy/core/_methods.py:186: RuntimeWarning: invalid value encountered in true_divide\n",
      "  arrmean, rcount, out=arrmean, casting='unsafe', subok=False)\n",
      "/home/jupyter-ehren/.local/lib/python3.6/site-packages/numpy/core/_methods.py:209: RuntimeWarning: invalid value encountered in double_scalars\n",
      "  ret = ret.dtype.type(ret / rcount)\n",
      "/home/jupyter-ehren/.local/lib/python3.6/site-packages/numpy/core/fromnumeric.py:3584: RuntimeWarning: Degrees of freedom <= 0 for slice\n",
      "  **kwargs)\n",
      "/home/jupyter-ehren/.local/lib/python3.6/site-packages/numpy/core/_methods.py:186: RuntimeWarning: invalid value encountered in true_divide\n",
      "  arrmean, rcount, out=arrmean, casting='unsafe', subok=False)\n",
      "/home/jupyter-ehren/.local/lib/python3.6/site-packages/numpy/core/_methods.py:209: RuntimeWarning: invalid value encountered in double_scalars\n",
      "  ret = ret.dtype.type(ret / rcount)\n",
      "/home/jupyter-ehren/.local/lib/python3.6/site-packages/pyod/models/base.py:168: RuntimeWarning: invalid value encountered in greater\n",
      "  return (pred_score > self.threshold_).astype('int').ravel()\n",
      "/home/jupyter-ehren/.local/lib/python3.6/site-packages/numpy/core/fromnumeric.py:3584: RuntimeWarning: Degrees of freedom <= 0 for slice\n",
      "  **kwargs)\n",
      "/home/jupyter-ehren/.local/lib/python3.6/site-packages/numpy/core/_methods.py:186: RuntimeWarning: invalid value encountered in true_divide\n",
      "  arrmean, rcount, out=arrmean, casting='unsafe', subok=False)\n",
      "/home/jupyter-ehren/.local/lib/python3.6/site-packages/numpy/core/_methods.py:209: RuntimeWarning: invalid value encountered in double_scalars\n",
      "  ret = ret.dtype.type(ret / rcount)\n",
      "/home/jupyter-ehren/.local/lib/python3.6/site-packages/numpy/core/fromnumeric.py:3584: RuntimeWarning: Degrees of freedom <= 0 for slice\n",
      "  **kwargs)\n",
      "/home/jupyter-ehren/.local/lib/python3.6/site-packages/numpy/core/_methods.py:186: RuntimeWarning: invalid value encountered in true_divide\n",
      "  arrmean, rcount, out=arrmean, casting='unsafe', subok=False)\n",
      "/home/jupyter-ehren/.local/lib/python3.6/site-packages/numpy/core/_methods.py:209: RuntimeWarning: invalid value encountered in double_scalars\n",
      "  ret = ret.dtype.type(ret / rcount)\n"
     ]
    },
    {
     "name": "stdout",
     "output_type": "stream",
     "text": [
      "OUTLIERS :  0 INLIERS :  365 Angle-based Outlier Detector (ABOD)\n",
      "OUTLIERS :  19 INLIERS :  346 Cluster-based Local Outlier Factor (CBLOF)\n",
      "OUTLIERS :  15 INLIERS :  350 Feature Bagging\n",
      "OUTLIERS :  19 INLIERS :  346 Histogram-base Outlier Detection (HBOS)\n",
      "OUTLIERS :  19 INLIERS :  346 Isolation Forest\n",
      "OUTLIERS :  11 INLIERS :  354 K Nearest Neighbors (KNN)\n",
      "OUTLIERS :  5 INLIERS :  360 Average KNN\n"
     ]
    }
   ],
   "source": [
    "# empty list to store outliers and inliners\n",
    "df_outliers = []\n",
    "scores_pred_lst = []\n",
    "proba_lst = []\n",
    "predict_rank_lst = []\n",
    "\n",
    "for i, (clf_name, clf) in enumerate(classifiers.items()):\n",
    "    clf.fit(X)\n",
    "    # predict raw anomaly score\n",
    "    scores_pred = clf.decision_function(X) * -1 # WHY? * -1\n",
    "    \n",
    "    # prediction of a datapoint category outlier or inlier\n",
    "    y_pred = clf.predict(X)\n",
    "    \n",
    "    # probability of outlier \n",
    "    probability = clf.predict_proba(X, method = 'linear')\n",
    "    \n",
    "    # predict rank\n",
    "    predict_rank = clf._predict_rank(X)\n",
    "    \n",
    "    n_inliers = len(y_pred) - np.count_nonzero(y_pred)\n",
    "    n_outliers = np.count_nonzero(y_pred == 1)\n",
    "    \n",
    "    # copy of dataframe\n",
    "    dfx = X.copy()\n",
    "    \n",
    "    dfx[clf_name] = y_pred.tolist()\n",
    "    #print(clf_name,'\\n',i,clf,'\\n',classifiers,'\\n',classifiers.items())\n",
    "    print('OUTLIERS : ',n_outliers,'INLIERS : ',n_inliers, clf_name)\n",
    "    #print('scores_pred: ', scores_pred)\n",
    "    scores_pred_lst.append(scores_pred)\n",
    "    df_outliers.append(dfx[clf_name]) \n",
    "    proba_lst.append(probability)\n",
    "    predict_rank_lst.append(predict_rank)"
   ]
  },
  {
   "cell_type": "code",
   "execution_count": 334,
   "metadata": {},
   "outputs": [],
   "source": [
    "social_df = df_outliers"
   ]
  },
  {
   "cell_type": "markdown",
   "metadata": {},
   "source": [
    "## Probability Scores"
   ]
  },
  {
   "cell_type": "code",
   "execution_count": 335,
   "metadata": {
    "scrolled": true
   },
   "outputs": [],
   "source": [
    "outlier_proba = np.transpose(pd.DataFrame(probability)).T\n",
    "outlier_proba.index = X.index\n",
    "#outlier_proba"
   ]
  },
  {
   "cell_type": "markdown",
   "metadata": {},
   "source": [
    "## Outlier Date Counts"
   ]
  },
  {
   "cell_type": "code",
   "execution_count": 336,
   "metadata": {
    "scrolled": true
   },
   "outputs": [],
   "source": [
    "btc_outliers = np.transpose(pd.DataFrame(df_outliers))\n",
    "#btc_outliers"
   ]
  },
  {
   "cell_type": "markdown",
   "metadata": {},
   "source": [
    "## Predict Rank Scores"
   ]
  },
  {
   "cell_type": "code",
   "execution_count": 337,
   "metadata": {
    "scrolled": true
   },
   "outputs": [],
   "source": [
    "pred_rank_df = np.transpose(pd.DataFrame(predict_rank_lst))\n",
    "pred_rank_df.columns = classifiers.keys()\n",
    "#pred_rank_df"
   ]
  },
  {
   "cell_type": "markdown",
   "metadata": {},
   "source": [
    "## Intersection Dates"
   ]
  },
  {
   "cell_type": "code",
   "execution_count": 338,
   "metadata": {},
   "outputs": [],
   "source": [
    "# number of outliers identified per method \n",
    "outlier_dates = [] # store dates here \n",
    "for col in btc_outliers.columns:\n",
    "    outliers = btc_outliers[btc_outliers[col] == 1] # subset outlier data\n",
    "    #df_outliers.timestamp.apply(lambda x: x.strftime('%Y-%m-%d')) # datetime to string \n",
    "    outlier_dates.append(outliers.index) # append the string/date"
   ]
  },
  {
   "cell_type": "code",
   "execution_count": 339,
   "metadata": {},
   "outputs": [
    {
     "name": "stdout",
     "output_type": "stream",
     "text": [
      "Nbr of common anomalies among all models:  0\n"
     ]
    }
   ],
   "source": [
    "print('Nbr of common anomalies among all models: ',len(intersection(outlier_dates[0],outlier_dates[1],outlier_dates[2],\n",
    "        outlier_dates[3],outlier_dates[4],outlier_dates[5],outlier_dates[6])))"
   ]
  },
  {
   "cell_type": "markdown",
   "metadata": {},
   "source": [
    "# Anomaly Detection on all 3 datasets together"
   ]
  },
  {
   "cell_type": "code",
   "execution_count": 340,
   "metadata": {},
   "outputs": [
    {
     "data": {
      "text/plain": [
       "(365, 96)"
      ]
     },
     "execution_count": 340,
     "metadata": {},
     "output_type": "execute_result"
    }
   ],
   "source": [
    "merged_df = pd.concat([price,block,social], axis = 1)\n",
    "X = merged_df\n",
    "merged_df.shape"
   ]
  },
  {
   "cell_type": "code",
   "execution_count": 341,
   "metadata": {},
   "outputs": [
    {
     "name": "stdout",
     "output_type": "stream",
     "text": [
      "OUTLIERS :  18 INLIERS :  347 Angle-based Outlier Detector (ABOD)\n",
      "OUTLIERS :  19 INLIERS :  346 Cluster-based Local Outlier Factor (CBLOF)\n",
      "OUTLIERS :  17 INLIERS :  348 Feature Bagging\n",
      "OUTLIERS :  19 INLIERS :  346 Histogram-base Outlier Detection (HBOS)\n",
      "OUTLIERS :  19 INLIERS :  346 Isolation Forest\n",
      "OUTLIERS :  13 INLIERS :  352 K Nearest Neighbors (KNN)\n",
      "OUTLIERS :  9 INLIERS :  356 Average KNN\n"
     ]
    }
   ],
   "source": [
    "# empty list to store outliers and inliners\n",
    "df_outliers = []\n",
    "scores_pred_lst = []\n",
    "proba_lst = []\n",
    "predict_rank_lst = []\n",
    "\n",
    "for i, (clf_name, clf) in enumerate(classifiers.items()):\n",
    "    clf.fit(X)\n",
    "    # predict raw anomaly score\n",
    "    scores_pred = clf.decision_function(X) * -1 # WHY? * -1\n",
    "    \n",
    "    # prediction of a datapoint category outlier or inlier\n",
    "    y_pred = clf.predict(X)\n",
    "    \n",
    "    # probability of outlier \n",
    "    probability = clf.predict_proba(X, method = 'linear')\n",
    "    \n",
    "    # predict rank\n",
    "    predict_rank = clf._predict_rank(X)\n",
    "    \n",
    "    n_inliers = len(y_pred) - np.count_nonzero(y_pred)\n",
    "    n_outliers = np.count_nonzero(y_pred == 1)\n",
    "    \n",
    "    # copy of dataframe\n",
    "    dfx = X.copy()\n",
    "    \n",
    "    dfx[clf_name] = y_pred.tolist()\n",
    "    #print(clf_name,'\\n',i,clf,'\\n',classifiers,'\\n',classifiers.items())\n",
    "    print('OUTLIERS : ',n_outliers,'INLIERS : ',n_inliers, clf_name)\n",
    "    #print('scores_pred: ', scores_pred)\n",
    "    scores_pred_lst.append(scores_pred)\n",
    "    df_outliers.append(dfx[clf_name]) \n",
    "    proba_lst.append(probability)\n",
    "    predict_rank_lst.append(predict_rank)"
   ]
  },
  {
   "cell_type": "code",
   "execution_count": 342,
   "metadata": {},
   "outputs": [],
   "source": [
    "three = df_outliers"
   ]
  },
  {
   "cell_type": "markdown",
   "metadata": {},
   "source": [
    "## Probability"
   ]
  },
  {
   "cell_type": "code",
   "execution_count": 343,
   "metadata": {
    "scrolled": true
   },
   "outputs": [],
   "source": [
    "outlier_proba = np.transpose(pd.DataFrame(probability)).T\n",
    "outlier_proba.index = X.index\n",
    "#outlier_proba"
   ]
  },
  {
   "cell_type": "markdown",
   "metadata": {},
   "source": [
    "## Outlier Date Counts"
   ]
  },
  {
   "cell_type": "code",
   "execution_count": 344,
   "metadata": {
    "scrolled": true
   },
   "outputs": [],
   "source": [
    "btc_outliers = np.transpose(pd.DataFrame(df_outliers))\n",
    "#btc_outliers"
   ]
  },
  {
   "cell_type": "markdown",
   "metadata": {},
   "source": [
    "## Predict Rank Scores"
   ]
  },
  {
   "cell_type": "code",
   "execution_count": 345,
   "metadata": {
    "scrolled": true
   },
   "outputs": [],
   "source": [
    "pred_rank_df = np.transpose(pd.DataFrame(predict_rank_lst))\n",
    "pred_rank_df.columns = classifiers.keys()\n",
    "pred_rank_df.index = merged_df.index\n",
    "#pred_rank_df"
   ]
  },
  {
   "cell_type": "markdown",
   "metadata": {},
   "source": [
    "# Intersection Between Merge and different datasets"
   ]
  },
  {
   "cell_type": "code",
   "execution_count": 346,
   "metadata": {},
   "outputs": [],
   "source": [
    "# number of outliers identified per method \n",
    "outlier_dates = [] # store dates here \n",
    "for col in btc_outliers.columns:\n",
    "    outliers = btc_outliers[btc_outliers[col] == 1] # subset outlier data\n",
    "    #df_outliers.timestamp.apply(lambda x: x.strftime('%Y-%m-%d')) # datetime to string \n",
    "    outlier_dates.append(outliers.index) # append the string/date"
   ]
  },
  {
   "cell_type": "code",
   "execution_count": 347,
   "metadata": {},
   "outputs": [
    {
     "name": "stdout",
     "output_type": "stream",
     "text": [
      "Nbr of common anomalies among all models:  0\n"
     ]
    }
   ],
   "source": [
    "print('Nbr of common anomalies among all models: ',len(intersection(outlier_dates[0],outlier_dates[1],outlier_dates[2],\n",
    "        outlier_dates[3],outlier_dates[4],outlier_dates[5],outlier_dates[6])))"
   ]
  },
  {
   "cell_type": "markdown",
   "metadata": {},
   "source": [
    "## CBLOF intersection dates across tests (arbitrary model check)"
   ]
  },
  {
   "cell_type": "code",
   "execution_count": 349,
   "metadata": {},
   "outputs": [
    {
     "data": {
      "text/plain": [
       "[]"
      ]
     },
     "execution_count": 349,
     "metadata": {},
     "output_type": "execute_result"
    }
   ],
   "source": [
    "[x for x in three[3] if x in prices_df[3]]"
   ]
  },
  {
   "cell_type": "code",
   "execution_count": 350,
   "metadata": {},
   "outputs": [],
   "source": [
    "def intersection(lst1, lst2): \n",
    "    return list(set(lst1) & set(lst2))"
   ]
  },
  {
   "cell_type": "code",
   "execution_count": 351,
   "metadata": {},
   "outputs": [
    {
     "data": {
      "text/plain": [
       "[0, 1]"
      ]
     },
     "execution_count": 351,
     "metadata": {},
     "output_type": "execute_result"
    }
   ],
   "source": [
    "# prices and blockchain\n",
    "intersection(prices_df[1], block_df[1])"
   ]
  },
  {
   "cell_type": "code",
   "execution_count": 352,
   "metadata": {},
   "outputs": [
    {
     "data": {
      "text/plain": [
       "[0, 1]"
      ]
     },
     "execution_count": 352,
     "metadata": {},
     "output_type": "execute_result"
    }
   ],
   "source": [
    "intersection(prices_df[1], social_df[1])"
   ]
  },
  {
   "cell_type": "code",
   "execution_count": null,
   "metadata": {},
   "outputs": [],
   "source": []
  },
  {
   "cell_type": "code",
   "execution_count": null,
   "metadata": {},
   "outputs": [],
   "source": []
  },
  {
   "cell_type": "code",
   "execution_count": 353,
   "metadata": {},
   "outputs": [],
   "source": [
    "dates_knn = list(btc_outliers[btc_outliers['K Nearest Neighbors (KNN)']==1].index)"
   ]
  },
  {
   "cell_type": "code",
   "execution_count": 354,
   "metadata": {},
   "outputs": [
    {
     "ename": "IndexError",
     "evalue": "only integers, slices (`:`), ellipsis (`...`), numpy.newaxis (`None`) and integer or boolean arrays are valid indices",
     "output_type": "error",
     "traceback": [
      "\u001b[0;31m---------------------------------------------------------------------------\u001b[0m",
      "\u001b[0;31mIndexError\u001b[0m                                Traceback (most recent call last)",
      "\u001b[0;32m<ipython-input-354-4a3d32086e92>\u001b[0m in \u001b[0;36m<module>\u001b[0;34m\u001b[0m\n\u001b[1;32m     12\u001b[0m \u001b[0max\u001b[0m\u001b[0;34m.\u001b[0m\u001b[0mscatter\u001b[0m\u001b[0;34m(\u001b[0m\u001b[0mX_reduce\u001b[0m\u001b[0;34m[\u001b[0m\u001b[0;34m:\u001b[0m\u001b[0;34m,\u001b[0m \u001b[0;36m0\u001b[0m\u001b[0;34m]\u001b[0m\u001b[0;34m,\u001b[0m \u001b[0mX_reduce\u001b[0m\u001b[0;34m[\u001b[0m\u001b[0;34m:\u001b[0m\u001b[0;34m,\u001b[0m \u001b[0;36m1\u001b[0m\u001b[0;34m]\u001b[0m\u001b[0;34m,\u001b[0m \u001b[0mzs\u001b[0m\u001b[0;34m=\u001b[0m\u001b[0mX_reduce\u001b[0m\u001b[0;34m[\u001b[0m\u001b[0;34m:\u001b[0m\u001b[0;34m,\u001b[0m \u001b[0;36m2\u001b[0m\u001b[0;34m]\u001b[0m\u001b[0;34m,\u001b[0m \u001b[0ms\u001b[0m\u001b[0;34m=\u001b[0m\u001b[0;36m4\u001b[0m\u001b[0;34m,\u001b[0m \u001b[0mlw\u001b[0m\u001b[0;34m=\u001b[0m\u001b[0;36m1\u001b[0m\u001b[0;34m,\u001b[0m \u001b[0mlabel\u001b[0m\u001b[0;34m=\u001b[0m\u001b[0;34m\"inliers\"\u001b[0m\u001b[0;34m,\u001b[0m\u001b[0mc\u001b[0m\u001b[0;34m=\u001b[0m\u001b[0;34m\"green\"\u001b[0m\u001b[0;34m)\u001b[0m\u001b[0;34m\u001b[0m\u001b[0;34m\u001b[0m\u001b[0m\n\u001b[1;32m     13\u001b[0m \u001b[0;31m# Plot x's for the ground truth outliers\u001b[0m\u001b[0;34m\u001b[0m\u001b[0;34m\u001b[0m\u001b[0;34m\u001b[0m\u001b[0m\n\u001b[0;32m---> 14\u001b[0;31m ax.scatter(X_reduce[dates_knn,0],X_reduce[dates_knn,1], X_reduce[dates_knn,2],\n\u001b[0m\u001b[1;32m     15\u001b[0m            lw=2, s=60, marker=\"x\", c=\"red\", label=\"outliers\")\n\u001b[1;32m     16\u001b[0m \u001b[0max\u001b[0m\u001b[0;34m.\u001b[0m\u001b[0mlegend\u001b[0m\u001b[0;34m(\u001b[0m\u001b[0;34m)\u001b[0m\u001b[0;34m\u001b[0m\u001b[0;34m\u001b[0m\u001b[0m\n",
      "\u001b[0;31mIndexError\u001b[0m: only integers, slices (`:`), ellipsis (`...`), numpy.newaxis (`None`) and integer or boolean arrays are valid indices"
     ]
    },
    {
     "data": {
      "image/png": "[encoded data removed]",
      "text/plain": [
       "<Figure size 432x288 with 1 Axes>"
      ]
     },
     "metadata": {
      "needs_background": "light"
     },
     "output_type": "display_data"
    }
   ],
   "source": [
    "import matplotlib.pyplot as plt\n",
    "from sklearn.decomposition import PCA\n",
    "from sklearn.preprocessing import StandardScaler\n",
    "from mpl_toolkits.mplot3d import Axes3D\n",
    "\n",
    "pca = PCA(n_components=3)  # Reduce to k=3 dimensions\n",
    "X_reduce = pca.fit_transform(X)\n",
    "fig = plt.figure()\n",
    "ax = fig.add_subplot(111, projection='3d')\n",
    "ax.set_zlabel(\"x_composite_3\")\n",
    "# Plot the compressed data points\n",
    "ax.scatter(X_reduce[:, 0], X_reduce[:, 1], zs=X_reduce[:, 2], s=4, lw=1, label=\"inliers\",c=\"green\")\n",
    "# Plot x's for the ground truth outliers\n",
    "ax.scatter(X_reduce[dates_knn,0],X_reduce[dates_knn,1], X_reduce[dates_knn,2],\n",
    "           lw=2, s=60, marker=\"x\", c=\"red\", label=\"outliers\")\n",
    "ax.legend()\n",
    "plt.show()"
   ]
  },
  {
   "cell_type": "code",
   "execution_count": null,
   "metadata": {},
   "outputs": [],
   "source": [
    "from pyod.models.knn import KNN\n",
    "\n",
    "clf_name = 'KNN'\n",
    "clf = KNN(contamination=0.05)\n",
    "clf.fit(X.values)"
   ]
  },
  {
   "cell_type": "code",
   "execution_count": null,
   "metadata": {},
   "outputs": [],
   "source": [
    "# predict raw anomaly score \n",
    "# np.set_printoptions(precision=None)\n",
    "\n",
    "#clf.decision_scores_\n",
    "\n",
    "scores_pred = clf.decision_function(X) \n",
    "print(scores_pred.shape)"
   ]
  },
  {
   "cell_type": "code",
   "execution_count": null,
   "metadata": {},
   "outputs": [],
   "source": [
    "# get the prediction on the test data\n",
    "y_pred = clf.predict(X)  # outlier labels (0 or 1)\n",
    "print(y_pred.shape)\n",
    "n_inliers = len(y_pred) - np.count_nonzero(y_pred)\n",
    "n_outliers = np.count_nonzero(y_pred == 1)\n",
    "print('OUTLIERS : ',n_outliers,'INLIERS : ',n_inliers, clf_name)\n",
    "# threshold value to consider a datapoint inlier or outlier\n",
    "threshold = stats.scoreatpercentile(scores_pred,100 * 0.05)\n",
    "threshold"
   ]
  },
  {
   "cell_type": "raw",
   "metadata": {},
   "source": [
    "# evaluate and print the results\n",
    "print(\"\\nOn Training Data:\")\n",
    "evaluate_print(clf_name, y_train, y_train_scores)\n",
    "print(\"\\nOn Test Data:\")\n",
    "evaluate_print(clf_name, y_test, y_test_scores)\n",
    "\n",
    "visualize(clf_name, X_train, y_train, X_test, y_test, y_train_pred,\n",
    "          y_test_pred, show_figure=True, save_figure=False)"
   ]
  },
  {
   "cell_type": "code",
   "execution_count": null,
   "metadata": {},
   "outputs": [],
   "source": []
  }
 ],
 "metadata": {
  "kernelspec": {
   "display_name": "Python 3",
   "language": "python",
   "name": "python3"
  },
  "language_info": {
   "codemirror_mode": {
    "name": "ipython",
    "version": 3
   },
   "file_extension": ".py",
   "mimetype": "text/x-python",
   "name": "python",
   "nbconvert_exporter": "python",
   "pygments_lexer": "ipython3",
   "version": "3.6.7"
  }
 },
 "nbformat": 4,
 "nbformat_minor": 4
}
